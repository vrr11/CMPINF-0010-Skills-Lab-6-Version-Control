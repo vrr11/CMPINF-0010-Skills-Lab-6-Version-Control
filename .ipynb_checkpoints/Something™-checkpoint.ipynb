{
 "cells": [
  {
   "cell_type": "code",
   "execution_count": 1,
   "id": "f08f953a",
   "metadata": {},
   "outputs": [
    {
     "name": "stdout",
     "output_type": "stream",
     "text": [
      "Please enter your name: Vivek\n",
      "How old are you? a\n",
      "Invalid age. Please try entering an integer!\n",
      "How old are you? 1.2\n",
      "Invalid age. Please try entering an integer!\n",
      "How old are you? -1\n",
      "Age cannot be negative!\n",
      "How old are you? 22\n"
     ]
    }
   ],
   "source": [
    "name = input(\"Please enter your name: \")\n",
    "while True:\n",
    "    try:\n",
    "        age = int(input(\"How old are you? \"))\n",
    "        if (age < 0):\n",
    "            print(\"Age cannot be negative!\")\n",
    "            continue\n",
    "        else:\n",
    "            break\n",
    "    except:\n",
    "        print(\"Invalid age. Please try entering an integer!\")"
   ]
  },
  {
   "cell_type": "code",
   "execution_count": 2,
   "id": "b874785d",
   "metadata": {},
   "outputs": [
    {
     "name": "stdout",
     "output_type": "stream",
     "text": [
      "Your name is Vivek and you are 22 years old!\n"
     ]
    }
   ],
   "source": [
    "# print out the name and the age\n",
    "print(f'Your name is {name} and you are {age} years old!')"
   ]
  }
 ],
 "metadata": {
  "kernelspec": {
   "display_name": "Python 3 (ipykernel)",
   "language": "python",
   "name": "python3"
  },
  "language_info": {
   "codemirror_mode": {
    "name": "ipython",
    "version": 3
   },
   "file_extension": ".py",
   "mimetype": "text/x-python",
   "name": "python",
   "nbconvert_exporter": "python",
   "pygments_lexer": "ipython3",
   "version": "3.9.12"
  },
  "vscode": {
   "interpreter": {
    "hash": "aee8b7b246df8f9039afb4144a1f6fd8d2ca17a180786b69acc140d282b71a49"
   }
  }
 },
 "nbformat": 4,
 "nbformat_minor": 5
}
