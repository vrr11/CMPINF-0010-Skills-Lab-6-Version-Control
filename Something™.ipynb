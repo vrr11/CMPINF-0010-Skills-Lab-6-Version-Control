{
 "cells": [
  {
   "cell_type": "code",
   "execution_count": 3,
   "metadata": {},
   "outputs": [
    {
     "name": "stdin",
     "output_type": "stream",
     "text": [
      "Please enter your name: Alon\n",
      "How old are you? 20\n"
     ]
    }
   ],
   "source": [
    "name = input(\"Please enter your name:\")\n",
    "while True:\n",
    "    try:\n",
    "        age = int(input(\"How old are you?\"))\n",
    "        if(age<0): age = int(a)\n",
    "        else: break\n",
    "    except:\n",
    "        print(\"Invalid age. Please try entering a positive number!\")"
   ]
  },
  {
   "cell_type": "code",
   "execution_count": 2,
   "metadata": {},
   "outputs": [
    {
     "name": "stdout",
     "output_type": "stream",
     "text": [
      "My name is Alon and I am 20 years old!\n"
     ]
    }
   ],
   "source": [
    "# print out the name and the age\n",
    "print(f'My name is {name} and I am {age} years old!')"
   ]
  }
 ],
 "metadata": {
  "kernelspec": {
   "display_name": "Python 3",
   "language": "python",
   "name": "python3"
  },
  "language_info": {
   "codemirror_mode": {
    "name": "ipython",
    "version": 3
   },
   "file_extension": ".py",
   "mimetype": "text/x-python",
   "name": "python",
   "nbconvert_exporter": "python",
   "pygments_lexer": "ipython3",
   "version": "3.8.3"
  },
  "vscode": {
   "interpreter": {
    "hash": "aee8b7b246df8f9039afb4144a1f6fd8d2ca17a180786b69acc140d282b71a49"
   }
  }
 },
 "nbformat": 4,
 "nbformat_minor": 5
}
